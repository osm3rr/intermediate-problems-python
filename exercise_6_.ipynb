{
 "cells": [
  {
   "cell_type": "code",
   "execution_count": null,
   "metadata": {},
   "outputs": [],
   "source": []
  },
  {
   "cell_type": "markdown",
   "metadata": {},
   "source": [
    "# Exercise 6\n",
    "Dado un número entero positivo, mostrar las N primeras potencias."
   ]
  },
  {
   "cell_type": "code",
   "execution_count": 3,
   "metadata": {},
   "outputs": [
    {
     "name": "stdout",
     "output_type": "stream",
     "text": [
      "2 ** 1 = 2\n",
      "2 ** 2 = 4\n",
      "2 ** 3 = 8\n",
      "2 ** 4 = 16\n",
      "2 ** 5 = 32\n"
     ]
    }
   ],
   "source": [
    "# Solution\n",
    "number_in = int( input( \"Enter a number: \" ) )\n",
    "n_pow = int( input( \"Enter a number N: \" ) )\n",
    "\n",
    "for num in range( 1, n_pow + 1 ):\n",
    "    print( f\"{number_in} ** {num} = {number_in ** num}\" )"
   ]
  }
 ],
 "metadata": {
  "interpreter": {
   "hash": "3313d7862e35f23cb796a0d5e1a05f5386948db6518b51457360428deb8d3fb3"
  },
  "kernelspec": {
   "display_name": "Python 3.8.3 64-bit ('base': conda)",
   "language": "python",
   "name": "python3"
  },
  "language_info": {
   "codemirror_mode": {
    "name": "ipython",
    "version": 3
   },
   "file_extension": ".py",
   "mimetype": "text/x-python",
   "name": "python",
   "nbconvert_exporter": "python",
   "pygments_lexer": "ipython3",
   "version": "3.8.3"
  },
  "orig_nbformat": 4
 },
 "nbformat": 4,
 "nbformat_minor": 2
}
