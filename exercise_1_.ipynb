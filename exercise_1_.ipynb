{
 "cells": [
  {
   "cell_type": "markdown",
   "metadata": {},
   "source": [
    "# Exercise 1\n",
    "Dado un número entero positivo x, mostrar su último dígito."
   ]
  },
  {
   "cell_type": "code",
   "execution_count": 1,
   "metadata": {},
   "outputs": [
    {
     "name": "stdout",
     "output_type": "stream",
     "text": [
      "The last digit is: 3\n"
     ]
    }
   ],
   "source": [
    "# Solution a\n",
    "\n",
    "num_x = int( input( \"Enter a natural number:\" ) )\n",
    "\n",
    "if num_x >= 0:\n",
    "    last_digit = num_x % 10\n",
    "    print( f\"The last digit is: {last_digit}\" )\n",
    "else:\n",
    "    print( \"Ingresa un número positivo\" )\n",
    "\n"
   ]
  }
 ],
 "metadata": {
  "interpreter": {
   "hash": "3313d7862e35f23cb796a0d5e1a05f5386948db6518b51457360428deb8d3fb3"
  },
  "kernelspec": {
   "display_name": "Python 3.8.3 64-bit ('base': conda)",
   "language": "python",
   "name": "python3"
  },
  "language_info": {
   "codemirror_mode": {
    "name": "ipython",
    "version": 3
   },
   "file_extension": ".py",
   "mimetype": "text/x-python",
   "name": "python",
   "nbconvert_exporter": "python",
   "pygments_lexer": "ipython3",
   "version": "3.8.3"
  },
  "orig_nbformat": 4
 },
 "nbformat": 4,
 "nbformat_minor": 2
}
