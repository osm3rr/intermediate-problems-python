{
 "cells": [
  {
   "cell_type": "markdown",
   "metadata": {},
   "source": [
    "# Exercise 10\n",
    "Dada una lista de N números, mostrar el mayor de ellos.\n"
   ]
  },
  {
   "cell_type": "code",
   "execution_count": 6,
   "metadata": {},
   "outputs": [
    {
     "name": "stdout",
     "output_type": "stream",
     "text": [
      "77\n",
      "Lista ordenada: [1, 5, 77]\n",
      "El mayor: 77\n"
     ]
    }
   ],
   "source": [
    "list_in = eval( input( \"Enter a number list: \" ) )\n",
    "\n",
    "# *** Solution a ****\n",
    "#print( max( list_in ) )\n",
    "\n",
    "# ***Solution b ****\n",
    "list_in.sort()\n",
    "\n",
    "print( f\"Lista ordenada: {list_in}\" )\n",
    "\n",
    "print( f'El mayor: {list_in[-1]}' )\n"
   ]
  }
 ],
 "metadata": {
  "interpreter": {
   "hash": "3313d7862e35f23cb796a0d5e1a05f5386948db6518b51457360428deb8d3fb3"
  },
  "kernelspec": {
   "display_name": "Python 3.8.3 64-bit ('base': conda)",
   "language": "python",
   "name": "python3"
  },
  "language_info": {
   "codemirror_mode": {
    "name": "ipython",
    "version": 3
   },
   "file_extension": ".py",
   "mimetype": "text/x-python",
   "name": "python",
   "nbconvert_exporter": "python",
   "pygments_lexer": "ipython3",
   "version": "3.8.3"
  },
  "orig_nbformat": 4
 },
 "nbformat": 4,
 "nbformat_minor": 2
}
