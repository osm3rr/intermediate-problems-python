{
 "cells": [
  {
   "cell_type": "markdown",
   "metadata": {},
   "source": [
    "# Exercise 3\n",
    "Dado un número entero positivo, contar la cantidad de dígitos pares e impares que posee."
   ]
  },
  {
   "cell_type": "code",
   "execution_count": 24,
   "metadata": {},
   "outputs": [
    {
     "name": "stdout",
     "output_type": "stream",
     "text": [
      "Even: 1\n",
      "Odd: 2\n"
     ]
    }
   ],
   "source": [
    "num_x = input(\"Enter a integer number: \")\n",
    "\n",
    "even_count = 0\n",
    "odd_count = 0\n",
    "\n",
    "for num in range( len(num_x) ):\n",
    "    \n",
    "    num_in = int( num_x[num] )\n",
    "    \n",
    "    if num_in % 2 == 0:\n",
    "        even_count += 1\n",
    "        \n",
    "    else:\n",
    "         odd_count += 1\n",
    "\n",
    "print(f\"Even: {even_count}\")\n",
    "print(f\"Odd: {odd_count}\")\n",
    "\n"
   ]
  },
  {
   "cell_type": "code",
   "execution_count": 35,
   "metadata": {},
   "outputs": [
    {
     "name": "stdout",
     "output_type": "stream",
     "text": [
      "Even: 1\n",
      "Odd: 2\n"
     ]
    }
   ],
   "source": [
    "# Solution b\n",
    "num_x = int( input(\"Enter a integer number: \") )\n",
    "\n",
    "count_even = 0\n",
    "count_odd = 0\n",
    "\n",
    "if num_x >= 0:\n",
    "    while num_x > 0:\n",
    "        # get the last digit\n",
    "        digit = num_x % 10\n",
    "        if digit % 2 == 0:\n",
    "            count_even += 1\n",
    "        else:\n",
    "            count_odd += 1\n",
    "        # move one digit to the left\n",
    "        num_x = num_x // 10\n",
    "\n",
    "print( f\"Even: {count_even}\" )\n",
    "print( f\"Odd: {count_odd}\" )\n"
   ]
  },
  {
   "cell_type": "code",
   "execution_count": 33,
   "metadata": {},
   "outputs": [
    {
     "data": {
      "text/plain": [
       "0"
      ]
     },
     "execution_count": 33,
     "metadata": {},
     "output_type": "execute_result"
    }
   ],
   "source": [
    "2 // 10"
   ]
  }
 ],
 "metadata": {
  "interpreter": {
   "hash": "3313d7862e35f23cb796a0d5e1a05f5386948db6518b51457360428deb8d3fb3"
  },
  "kernelspec": {
   "display_name": "Python 3.8.3 64-bit ('base': conda)",
   "language": "python",
   "name": "python3"
  },
  "language_info": {
   "name": "python",
   "version": "3.8.3"
  },
  "orig_nbformat": 4
 },
 "nbformat": 4,
 "nbformat_minor": 2
}
