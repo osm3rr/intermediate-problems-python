{
 "cells": [
  {
   "cell_type": "markdown",
   "metadata": {},
   "source": [
    "# Exercise 11\n",
    "Dada una lista ordenada de números, indicar sí hay números repetidos."
   ]
  },
  {
   "cell_type": "code",
   "execution_count": 15,
   "metadata": {},
   "outputs": [
    {
     "name": "stdout",
     "output_type": "stream",
     "text": [
      "Hay repetidos\n",
      "Counter({2: 2, 1: 1})\n"
     ]
    }
   ],
   "source": [
    "from collections import Counter\n",
    "\n",
    "list_in = eval( input( \"Enter a list: \" ) )\n",
    "\n",
    "# Cuenta valores repetidos en un arreglo\n",
    "dict_count = Counter( list_in )\n",
    "\n",
    "flag = False\n",
    "for value in dict_count:\n",
    "    if dict_count[value] > 1:\n",
    "        flag = True\n",
    "        \n",
    "if flag:\n",
    "    print( \"Hay repetidos\" )\n",
    "    print( dict_count )\n",
    "else:\n",
    "    print( \"No hay repetidos\" )\n",
    "\n",
    "#print( dict_count )"
   ]
  }
 ],
 "metadata": {
  "interpreter": {
   "hash": "3313d7862e35f23cb796a0d5e1a05f5386948db6518b51457360428deb8d3fb3"
  },
  "kernelspec": {
   "display_name": "Python 3.8.3 64-bit ('base': conda)",
   "language": "python",
   "name": "python3"
  },
  "language_info": {
   "codemirror_mode": {
    "name": "ipython",
    "version": 3
   },
   "file_extension": ".py",
   "mimetype": "text/x-python",
   "name": "python",
   "nbconvert_exporter": "python",
   "pygments_lexer": "ipython3",
   "version": "3.8.3"
  },
  "orig_nbformat": 4
 },
 "nbformat": 4,
 "nbformat_minor": 2
}
