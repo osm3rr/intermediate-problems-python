{
 "cells": [
  {
   "cell_type": "markdown",
   "metadata": {},
   "source": [
    "# Exercise 7\n",
    "Dado un número natural, mostrar todos sus divisores"
   ]
  },
  {
   "cell_type": "code",
   "execution_count": 2,
   "metadata": {},
   "outputs": [
    {
     "name": "stdout",
     "output_type": "stream",
     "text": [
      "1 es un divisor de 10\n",
      "2 es un divisor de 10\n",
      "5 es un divisor de 10\n",
      "10 es un divisor de 10\n"
     ]
    }
   ],
   "source": [
    "num_in = int( input(\"Enter a number: \") )\n",
    "\n",
    "for num in range( 1, num_in + 1 ):\n",
    "    if num_in % num == 0:\n",
    "        print( f\"{num} es un divisor de {num_in}\" )"
   ]
  }
 ],
 "metadata": {
  "interpreter": {
   "hash": "3313d7862e35f23cb796a0d5e1a05f5386948db6518b51457360428deb8d3fb3"
  },
  "kernelspec": {
   "display_name": "Python 3.8.3 64-bit ('base': conda)",
   "language": "python",
   "name": "python3"
  },
  "language_info": {
   "codemirror_mode": {
    "name": "ipython",
    "version": 3
   },
   "file_extension": ".py",
   "mimetype": "text/x-python",
   "name": "python",
   "nbconvert_exporter": "python",
   "pygments_lexer": "ipython3",
   "version": "3.8.3"
  },
  "orig_nbformat": 4
 },
 "nbformat": 4,
 "nbformat_minor": 2
}
