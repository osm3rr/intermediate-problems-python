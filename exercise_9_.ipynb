{
 "cells": [
  {
   "cell_type": "markdown",
   "metadata": {},
   "source": [
    "# Exercise 9\n",
    "Dados dos números enteros positivos, mostrar sus divisores comunes."
   ]
  },
  {
   "cell_type": "code",
   "execution_count": 23,
   "metadata": {},
   "outputs": [],
   "source": [
    "# solution\n",
    "\n",
    "# Divider function\n",
    "def dividers( num ):\n",
    "    dividers_num = []\n",
    "    \n",
    "    for divider in range( 1, num + 1):\n",
    "        if num % divider == 0:\n",
    "            dividers_num.append( divider )\n",
    "    \n",
    "    return dividers_num\n",
    "       \n"
   ]
  },
  {
   "cell_type": "code",
   "execution_count": 24,
   "metadata": {},
   "outputs": [
    {
     "name": "stdout",
     "output_type": "stream",
     "text": [
      "num a:[1, 2]\n",
      "num b:[1, 2, 3, 4, 6, 12]\n",
      "Divisores comunes: [1, 2]\n"
     ]
    }
   ],
   "source": [
    "num_a = int( input( \"Enter the number a: \" ) )\n",
    "num_b = int( input( \"Enter the number b: \" ) )\n",
    "\n",
    "divisors_num_a = dividers( num_a )\n",
    "divisors_num_b = dividers( num_b )\n",
    "\n",
    "common_divisors = []\n",
    "\n",
    "for divisor in range( len( divisors_num_a ) ):\n",
    "    if divisors_num_a[ divisor ] in divisors_num_b:\n",
    "        common_divisors.append( divisors_num_a[ divisor ] )\n",
    "\n",
    "print( f\"num a:{divisors_num_a}\" )\n",
    "print( f\"num b:{divisors_num_b}\" )\n",
    "\n",
    "if len( common_divisors ) != 0:\n",
    "    print( f\"Divisores comunes: {common_divisors}\" )\n",
    "else:\n",
    "    print( f'\"{num_a}\" y \"{num_b}\", no tienen divisores comunes.' )\n"
   ]
  }
 ],
 "metadata": {
  "interpreter": {
   "hash": "3313d7862e35f23cb796a0d5e1a05f5386948db6518b51457360428deb8d3fb3"
  },
  "kernelspec": {
   "display_name": "Python 3.8.3 64-bit ('base': conda)",
   "language": "python",
   "name": "python3"
  },
  "language_info": {
   "codemirror_mode": {
    "name": "ipython",
    "version": 3
   },
   "file_extension": ".py",
   "mimetype": "text/x-python",
   "name": "python",
   "nbconvert_exporter": "python",
   "pygments_lexer": "ipython3",
   "version": "3.8.3"
  },
  "orig_nbformat": 4
 },
 "nbformat": 4,
 "nbformat_minor": 2
}
