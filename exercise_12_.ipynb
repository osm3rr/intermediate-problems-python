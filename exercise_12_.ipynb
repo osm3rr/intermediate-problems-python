{
 "cells": [
  {
   "cell_type": "markdown",
   "metadata": {},
   "source": [
    "# Exercise 12\n",
    "Dado un número entero positivo, mostrar el mayor de sus dísgitos"
   ]
  },
  {
   "cell_type": "code",
   "execution_count": 14,
   "metadata": {},
   "outputs": [
    {
     "name": "stdout",
     "output_type": "stream",
     "text": [
      "El dígito mayor es: 4\n"
     ]
    }
   ],
   "source": [
    "# Solution\n",
    "num = int(input( \"Ingrese un número positivo: \" ))\n",
    "\n",
    "mayor = -1\n",
    "\n",
    "if num > 0:\n",
    "    \n",
    "    while num > 0:\n",
    "        last_digit = num % 10\n",
    "        if last_digit > mayor:\n",
    "            mayor = last_digit\n",
    "        num //=  10\n",
    "else:\n",
    "    print( \"Ingrese un valor positivo\" )\n",
    "print( f\"El dígito mayor es: {mayor}\" )\n",
    "\n"
   ]
  },
  {
   "cell_type": "code",
   "execution_count": 18,
   "metadata": {},
   "outputs": [
    {
     "name": "stdout",
     "output_type": "stream",
     "text": [
      "El mayor: 3\n"
     ]
    }
   ],
   "source": [
    "# Solution b\n",
    "num = input( \"Ingrese un número positivo: \" )\n",
    "print( \"El mayor:\", max( num ) )"
   ]
  }
 ],
 "metadata": {
  "interpreter": {
   "hash": "3313d7862e35f23cb796a0d5e1a05f5386948db6518b51457360428deb8d3fb3"
  },
  "kernelspec": {
   "display_name": "Python 3.8.3 64-bit ('base': conda)",
   "language": "python",
   "name": "python3"
  },
  "language_info": {
   "codemirror_mode": {
    "name": "ipython",
    "version": 3
   },
   "file_extension": ".py",
   "mimetype": "text/x-python",
   "name": "python",
   "nbconvert_exporter": "python",
   "pygments_lexer": "ipython3",
   "version": "3.8.3"
  },
  "orig_nbformat": 4
 },
 "nbformat": 4,
 "nbformat_minor": 2
}
