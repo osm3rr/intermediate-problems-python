{
 "cells": [
  {
   "cell_type": "markdown",
   "metadata": {},
   "source": [
    "# Exercise 13\n",
    "Dado tres números enteros positivos A, B y C, mostrar los múltiplos de A, menores que B y que no sean divisores de C.\n"
   ]
  },
  {
   "cell_type": "code",
   "execution_count": 8,
   "metadata": {},
   "outputs": [
    {
     "name": "stdout",
     "output_type": "stream",
     "text": [
      "número a: 30\n",
      "divisores de a: [1, 2, 3, 5, 6, 10, 15, 30]\n",
      "número b: 20\n",
      "Divisores de a, menores que b: [1, 2, 3, 5, 6, 10, 15]\n",
      "número c: 10\n",
      "Div de a, menores que b y no div de c: [3, 6, 15]\n"
     ]
    }
   ],
   "source": [
    "# solution\n",
    "num_a = int( input(\"number a: \") )\n",
    "num_b = int( input(\"number b: \") )\n",
    "num_c = int( input(\"number c: \") )\n",
    "\n",
    "# num a dividers\n",
    "dividers_num_a = [  ]\n",
    "for divider_a in range( 1, num_a + 1 ):\n",
    "    if (num_a % divider_a == 0):\n",
    "        dividers_num_a.append( divider_a )\n",
    "\n",
    "# less that b\n",
    "less_num_b = []\n",
    "for divider in range( len( dividers_num_a ) ):\n",
    "    if dividers_num_a[ divider ] < num_b:\n",
    "        less_num_b.append( dividers_num_a[ divider ] )\n",
    "\n",
    "# no c dividers\n",
    "divider_abc = []\n",
    "for num in range( len( less_num_b ) ):\n",
    "    if num_c % less_num_b[num] != 0:\n",
    "        divider_abc.append( less_num_b[num] )\n",
    "        \n",
    "\n",
    "print( 'número a:', num_a )    \n",
    "print( f'divisores de a: {dividers_num_a}' )\n",
    "print( 'número b:', num_b )\n",
    "print( f'Divisores de a, menores que b: {less_num_b}' )\n",
    "print( 'número c:', num_c )\n",
    "print( f'Div de a, menores que b y no div de c: {divider_abc}' )\n"
   ]
  },
  {
   "cell_type": "code",
   "execution_count": 12,
   "metadata": {},
   "outputs": [
    {
     "name": "stdout",
     "output_type": "stream",
     "text": [
      "cumple con las condiciones: 2\n",
      "cumple con las condiciones: 4\n"
     ]
    }
   ],
   "source": [
    "# Solution b\n",
    "num_a = int( input(\"number a: \") )\n",
    "num_b = int( input(\"number b: \") )\n",
    "num_c = int( input(\"number c: \") )\n",
    "\n",
    "for divider in range( 1, num_a + 1 ):\n",
    "    if (num_a % divider == 0) and (divider < num_b) and (num_c % divider != 0):\n",
    "        print(f'cumple con las condiciones: {divider}')"
   ]
  }
 ],
 "metadata": {
  "interpreter": {
   "hash": "3313d7862e35f23cb796a0d5e1a05f5386948db6518b51457360428deb8d3fb3"
  },
  "kernelspec": {
   "display_name": "Python 3.8.3 64-bit ('base': conda)",
   "language": "python",
   "name": "python3"
  },
  "language_info": {
   "codemirror_mode": {
    "name": "ipython",
    "version": 3
   },
   "file_extension": ".py",
   "mimetype": "text/x-python",
   "name": "python",
   "nbconvert_exporter": "python",
   "pygments_lexer": "ipython3",
   "version": "3.8.3"
  },
  "orig_nbformat": 4
 },
 "nbformat": 4,
 "nbformat_minor": 2
}
