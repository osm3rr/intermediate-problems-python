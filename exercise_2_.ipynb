{
 "cells": [
  {
   "cell_type": "markdown",
   "metadata": {},
   "source": [
    "# Exercise 2\n",
    "Dado un número natural x positivo, contar la cantidad de dígitos que posee.\n"
   ]
  },
  {
   "cell_type": "code",
   "execution_count": 10,
   "metadata": {},
   "outputs": [
    {
     "name": "stdout",
     "output_type": "stream",
     "text": [
      "Digits: 3\n"
     ]
    }
   ],
   "source": [
    "# Solution a\n",
    "# num_x = int( input( \"Enter a natural number:\" ) )\n",
    "\n",
    "# count = 0\n",
    "\n",
    "# if num_x >= 0 and num_x < 10:\n",
    "#     print( \"Digits: 1\" )    \n",
    "\n",
    "# else:\n",
    "#     while num_x > 0:\n",
    "#         count += 1\n",
    "#         num_x = num_x // 10\n",
    "\n",
    "#     print( f\"Digits: {count}\" )\n",
    "    \n",
    "# Solution b\n",
    "num_x = input( \"Enter a natural number:\" )\n",
    "\n",
    "if num_x.isnumeric():\n",
    "    print(f\"Digits: {len(num_x)}\")\n",
    "else:\n",
    "    print(\"Enter a number!\")\n",
    "\n"
   ]
  }
 ],
 "metadata": {
  "interpreter": {
   "hash": "3313d7862e35f23cb796a0d5e1a05f5386948db6518b51457360428deb8d3fb3"
  },
  "kernelspec": {
   "display_name": "Python 3.8.3 64-bit ('base': conda)",
   "language": "python",
   "name": "python3"
  },
  "language_info": {
   "codemirror_mode": {
    "name": "ipython",
    "version": 3
   },
   "file_extension": ".py",
   "mimetype": "text/x-python",
   "name": "python",
   "nbconvert_exporter": "python",
   "pygments_lexer": "ipython3",
   "version": "3.8.3"
  },
  "orig_nbformat": 4
 },
 "nbformat": 4,
 "nbformat_minor": 2
}
