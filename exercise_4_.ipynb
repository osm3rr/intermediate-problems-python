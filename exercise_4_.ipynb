{
 "cells": [
  {
   "cell_type": "markdown",
   "metadata": {},
   "source": [
    "# Exercise 4\n",
    "Dado un número entero positivo, encontrar sumar todos sus dígitos"
   ]
  },
  {
   "cell_type": "code",
   "execution_count": 8,
   "metadata": {},
   "outputs": [
    {
     "name": "stdout",
     "output_type": "stream",
     "text": [
      "The sum of the digits of the number 123 is: 6\n"
     ]
    }
   ],
   "source": [
    "# Solution\n",
    "num_in = int( input( \"Enter a number: \" ) )\n",
    "\n",
    "sum_digits = 0\n",
    "\n",
    "var_x = num_in\n",
    "\n",
    "while var_x > 0:\n",
    "    digit = var_x % 10\n",
    "    sum_digits += digit\n",
    "    var_x = var_x // 10\n",
    "    \n",
    "print(f\"The sum of the digits of the number {num_in} is: {sum_digits}\")\n",
    "\n"
   ]
  }
 ],
 "metadata": {
  "interpreter": {
   "hash": "3313d7862e35f23cb796a0d5e1a05f5386948db6518b51457360428deb8d3fb3"
  },
  "kernelspec": {
   "display_name": "Python 3.8.3 64-bit ('base': conda)",
   "language": "python",
   "name": "python3"
  },
  "language_info": {
   "codemirror_mode": {
    "name": "ipython",
    "version": 3
   },
   "file_extension": ".py",
   "mimetype": "text/x-python",
   "name": "python",
   "nbconvert_exporter": "python",
   "pygments_lexer": "ipython3",
   "version": "3.8.3"
  },
  "orig_nbformat": 4
 },
 "nbformat": 4,
 "nbformat_minor": 2
}
